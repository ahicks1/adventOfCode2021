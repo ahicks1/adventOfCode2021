{
 "cells": [
  {
   "cell_type": "markdown",
   "metadata": {},
   "source": [
    "# --- Day 2: Dive! ---\n",
    "\n",
    "## Part 1\n",
    "Now, you need to figure out how to pilot this thing.\n",
    "\n",
    "It seems like the submarine can take a series of commands like forward 1, down 2, or up 3:\n",
    "```\n",
    "    forward X increases the horizontal position by X units.\n",
    "    down X increases the depth by X units.\n",
    "    up X decreases the depth by X units.\n",
    "```\n",
    "Note that since you're on a submarine, down and up affect your depth, and so they have the opposite result of what you might expect.\n",
    "\n",
    "The submarine seems to already have a planned course (your puzzle input). You should probably figure out where it's going. For example:\n",
    "```\n",
    "forward 5\n",
    "down 5\n",
    "forward 8\n",
    "up 3\n",
    "down 8\n",
    "forward 2\n",
    "```\n",
    "Your horizontal position and depth both start at 0. The steps above would then modify them as follows:\n",
    "```\n",
    "    forward 5 adds 5 to your horizontal position, a total of 5.\n",
    "    down 5 adds 5 to your depth, resulting in a value of 5.\n",
    "    forward 8 adds 8 to your horizontal position, a total of 13.\n",
    "    up 3 decreases your depth by 3, resulting in a value of 2.\n",
    "    down 8 adds 8 to your depth, resulting in a value of 10.\n",
    "    forward 2 adds 2 to your horizontal position, a total of 15.\n",
    "```\n",
    "After following these instructions, you would have a horizontal position of 15 and a depth of 10. (Multiplying these together produces 150.)\n",
    "\n",
    "Calculate the horizontal position and depth you would have after following the planned course. What do you get if you multiply your final horizontal position by your final depth?\n"
   ]
  },
  {
   "cell_type": "code",
   "execution_count": 17,
   "metadata": {},
   "outputs": [
    {
     "name": "stdout",
     "output_type": "stream",
     "text": [
      "depth: 0 progress: 0\n",
      "\u001b[92m Passed: expected 0 got 0\u001b[00m\n",
      "depth: 0 progress: 4\n",
      "\u001b[92m Passed: expected 0 got 0\u001b[00m\n",
      "depth: 3 progress: 4\n",
      "\u001b[92m Passed: expected 12 got 12\u001b[00m\n",
      "depth: -3 progress: 4\n",
      "\u001b[92m Passed: expected -12 got -12\u001b[00m\n",
      "depth: 0 progress: 4\n",
      "\u001b[92m Passed: expected 0 got 0\u001b[00m\n",
      "depth: 3 progress: 5\n",
      "\u001b[92m Passed: expected 15 got 15\u001b[00m\n"
     ]
    }
   ],
   "source": [
    "from localHelpers import doesEqual\n",
    "from functools import reduce\n",
    "\n",
    "def reduceHelper(l1,l2):\n",
    "    return [l1[i]+l2[i] for i in range(len(l1))]\n",
    "\n",
    "\n",
    "def pilotSubGeneric(commands: list[list[str, int]], reduceFunction):\n",
    "\n",
    "    actions = {\n",
    "        \"forward\": lambda x: [0,x],\n",
    "        \"up\": lambda x: [-x,0],\n",
    "        \"down\": lambda x: [x,0]\n",
    "    }\n",
    "\n",
    "    deltas = [actions[action](size) for action,size in commands]\n",
    "    depth, progress = reduceFunction(deltas)\n",
    "    # depth, progress = reduce(reduceHelper, deltas, [0,0])\n",
    "\n",
    "    print(f\"depth: {depth} progress: {progress}\")\n",
    "    return depth*progress\n",
    "\n",
    "def pilotSub(commands):\n",
    "    return pilotSubGeneric(commands, lambda x: reduce(reduceHelper, x, [0,0]))\n",
    "\n",
    "def testFunc(expected, input):\n",
    "    doesEqual(expected, pilotSub(input))\n",
    "\n",
    "testFunc(0, [])\n",
    "testFunc(0, [[\"forward\", 4]])\n",
    "testFunc(12, [[\"forward\", 4], [\"down\", 3]])\n",
    "testFunc(-12, [[\"forward\", 4], [\"up\", 3]])\n",
    "testFunc(0, [[\"forward\", 4], [\"up\", 3], [\"down\", 3]])\n",
    "testFunc(15, [[\"forward\", 4], [\"forward\", 1], [\"down\", 3]])\n"
   ]
  },
  {
   "cell_type": "code",
   "execution_count": 8,
   "metadata": {},
   "outputs": [
    {
     "name": "stdout",
     "output_type": "stream",
     "text": [
      "depth: 1031 progress: 1967\n",
      "Got result: 2027977\n"
     ]
    }
   ],
   "source": [
    "def parseLine(line:str) -> list[str, int]:\n",
    "    first, second = line.split(\" \")\n",
    "    return [first, int(second)]\n",
    "with open(\"Day2Input.txt\") as file:\n",
    "    lines = file.readlines()\n",
    "    entries = list(map(parseLine, lines))\n",
    "    result = pilotSub(entries)\n",
    "    print(f\"Got result: {result}\")\n"
   ]
  },
  {
   "cell_type": "markdown",
   "metadata": {},
   "source": [
    "## --- Part Two ---\n",
    "\n",
    "Based on your calculations, the planned course doesn't seem to make any sense. You find the submarine manual and discover that the process is actually slightly more complicated.\n",
    "\n",
    "In addition to horizontal position and depth, you'll also need to track a third value, aim, which also starts at 0. The commands also mean something entirely different than you first thought:\n",
    "```\n",
    "    down X increases your aim by X units.\n",
    "    up X decreases your aim by X units.\n",
    "    forward X does two things:\n",
    "        It increases your horizontal position by X units.\n",
    "        It increases your depth by your aim multiplied by X.\n",
    "```\n",
    "Again note that since you're on a submarine, down and up do the opposite of what you might expect: \"down\" means aiming in the positive direction.\n",
    "\n",
    "Now, the above example does something different:\n",
    "```\n",
    "    forward 5 adds 5 to your horizontal position, a total of 5. Because your aim is 0, your depth does not change.\n",
    "    down 5 adds 5 to your aim, resulting in a value of 5.\n",
    "    forward 8 adds 8 to your horizontal position, a total of 13. Because your aim is 5, your depth increases by 8*5=40.\n",
    "    up 3 decreases your aim by 3, resulting in a value of 2.\n",
    "    down 8 adds 8 to your aim, resulting in a value of 10.\n",
    "    forward 2 adds 2 to your horizontal position, a total of 15. Because your aim is 10, your depth increases by 2*10=20 to a total of 60.\n",
    "```\n",
    "After following these new instructions, you would have a horizontal position of 15 and a depth of 60. (Multiplying these produces 900.)\n",
    "\n",
    "Using this new interpretation of the commands, calculate the horizontal position and depth you would have after following the planned course. What do you get if you multiply your final horizontal position by your final depth?\n"
   ]
  },
  {
   "cell_type": "code",
   "execution_count": 19,
   "metadata": {},
   "outputs": [
    {
     "name": "stdout",
     "output_type": "stream",
     "text": [
      "depth: 0 progress: 0\n",
      "\u001b[92m Passed: expected 0 got 0\u001b[00m\n",
      "depth: 0 progress: 4\n",
      "\u001b[92m Passed: expected 0 got 0\u001b[00m\n",
      "depth: 4 progress: 4\n",
      "\u001b[92m Passed: expected 16 got 16\u001b[00m\n",
      "depth: -8 progress: 4\n",
      "\u001b[92m Passed: expected -32 got -32\u001b[00m\n"
     ]
    }
   ],
   "source": [
    "def advancedReduceHelper(accum, l2):\n",
    "    aim, depth, forward = accum\n",
    "    aimDelta, progress = l2\n",
    "    return [aim + aimDelta, depth + (aim*progress), forward+progress]\n",
    "\n",
    "def advancedPilot(commands: list[list[str, int]]) -> int:\n",
    "    return pilotSubGeneric(commands, lambda x: reduce(advancedReduceHelper, x, [0,0,0])[1:])\n",
    "\n",
    "def testAdvancedFunc(expected, input):\n",
    "    doesEqual(expected, advancedPilot(input))\n",
    "\n",
    "testAdvancedFunc(0, [])\n",
    "testAdvancedFunc(0, [[\"forward\", 4]])\n",
    "testAdvancedFunc(16, [[\"down\", 1], [\"forward\", 4]])\n",
    "testAdvancedFunc(-32, [[\"up\", 2], [\"forward\", 4]])"
   ]
  },
  {
   "cell_type": "code",
   "execution_count": 14,
   "metadata": {},
   "outputs": [
    {
     "name": "stdout",
     "output_type": "stream",
     "text": [
      "depth: 967791 progress: 1967\n",
      "Got part 2 result: 1903644897\n"
     ]
    }
   ],
   "source": [
    "part2Result = advancedPilot(entries)\n",
    "print(f\"Got part 2 result: {part2Result}\")"
   ]
  }
 ],
 "metadata": {
  "kernelspec": {
   "display_name": "Python 3.9.6 64-bit",
   "language": "python",
   "name": "python3"
  },
  "language_info": {
   "codemirror_mode": {
    "name": "ipython",
    "version": 3
   },
   "file_extension": ".py",
   "mimetype": "text/x-python",
   "name": "python",
   "nbconvert_exporter": "python",
   "pygments_lexer": "ipython3",
   "version": "3.9.6"
  },
  "orig_nbformat": 4,
  "vscode": {
   "interpreter": {
    "hash": "31f2aee4e71d21fbe5cf8b01ff0e069b9275f58929596ceb00d14d90e3e16cd6"
   }
  }
 },
 "nbformat": 4,
 "nbformat_minor": 2
}
