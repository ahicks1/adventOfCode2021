{
 "cells": [
  {
   "cell_type": "markdown",
   "metadata": {},
   "source": [
    "# Day 4: Giant Squid\n",
    "\n",
    "## Part 1\n",
    "\n",
    "You're already almost 1.5km (almost a mile) below the surface of the ocean, already so deep that you can't see any sunlight. What you can see, however, is a giant squid that has attached itself to the outside of your submarine.\n",
    "\n",
    "Maybe it wants to play bingo?\n",
    "\n",
    "Bingo is played on a set of boards each consisting of a 5x5 grid of numbers. Numbers are chosen at random, and the chosen number is marked on all boards on which it appears. (Numbers may not appear on all boards.) If all numbers in any row or any column of a board are marked, that board wins. (Diagonals don't count.)\n",
    "\n",
    "The submarine has a bingo subsystem to help passengers (currently, you and the giant squid) pass the time. It automatically generates a random order in which to draw numbers and a random set of boards (your puzzle input). For example:\n",
    "\n",
    "`7,4,9,5,11,17,23,2,0,14,21,24,10,16,13,6,15,25,12,22,18,20,8,19,3,26,1`\n",
    "```\n",
    "22 13 17 11  0\n",
    " 8  2 23  4 24\n",
    "21  9 14 16  7\n",
    " 6 10  3 18  5\n",
    " 1 12 20 15 19\n",
    "```\n",
    "```\n",
    " 3 15  0  2 22\n",
    " 9 18 13 17  5\n",
    "19  8  7 25 23\n",
    "20 11 10 24  4\n",
    "14 21 16 12  6\n",
    "```\n",
    "```\n",
    "14 21 17 24  4\n",
    "10 16 15  9 19\n",
    "18  8 23 26 20\n",
    "22 11 13  6  5\n",
    " 2  0 12  3  7\n",
    "```\n",
    "After the first five numbers are drawn (7, 4, 9, 5, and 11), there are no winners, but the boards are marked as follows (shown here adjacent to each other to save space):\n",
    "```\n",
    "22 13 17 11  0         3 15  0  2 22        14 21 17 24  4\n",
    " 8  2 23  4 24         9 18 13 17  5        10 16 15  9 19\n",
    "21  9 14 16  7        19  8  7 25 23        18  8 23 26 20\n",
    " 6 10  3 18  5        20 11 10 24  4        22 11 13  6  5\n",
    " 1 12 20 15 19        14 21 16 12  6         2  0 12  3  7\n",
    "```\n",
    "After the next six numbers are drawn (17, 23, 2, 0, 14, and 21), there are still no winners:\n",
    "```\n",
    "22 13 17 11  0         3 15  0  2 22        14 21 17 24  4\n",
    " 8  2 23  4 24         9 18 13 17  5        10 16 15  9 19\n",
    "21  9 14 16  7        19  8  7 25 23        18  8 23 26 20\n",
    " 6 10  3 18  5        20 11 10 24  4        22 11 13  6  5\n",
    " 1 12 20 15 19        14 21 16 12  6         2  0 12  3  7\n",
    "```\n",
    "Finally, 24 is drawn:\n",
    "```\n",
    "22 13 17 11  0         3 15  0  2 22        14 21 17 24  4\n",
    " 8  2 23  4 24         9 18 13 17  5        10 16 15  9 19\n",
    "21  9 14 16  7        19  8  7 25 23        18  8 23 26 20\n",
    " 6 10  3 18  5        20 11 10 24  4        22 11 13  6  5\n",
    " 1 12 20 15 19        14 21 16 12  6         2  0 12  3  7\n",
    "```\n",
    "At this point, the third board wins because it has at least one complete row or column of marked numbers (in this case, the entire top row is marked: 14 21 17 24 4).\n",
    "\n",
    "The score of the winning board can now be calculated. Start by finding the sum of all unmarked numbers on that board; in this case, the sum is 188. Then, multiply that sum by the number that was just called when the board won, 24, to get the final score, 188 * 24 = 4512.\n",
    "\n",
    "To guarantee victory against the giant squid, figure out which board will win first. What will your final score be if you choose that board?\n"
   ]
  },
  {
   "cell_type": "code",
   "execution_count": 74,
   "metadata": {},
   "outputs": [],
   "source": [
    "from localHelpers import doesEqual\n",
    "\n",
    "# Includes both columns and rows so for a 5x5 bingo board it'll be 10 entries\n",
    "BingoBoard = list[list[int]]\n",
    "\n",
    "def transpose(m:list[list[any]]) -> list[list[any]]:\n",
    "    if(not len(m)):\n",
    "        return []\n",
    "    return [[m[i][j] for i in range(len(m))] for j in range(len(m[0]))]\n",
    "\n",
    "def convertBoard(board: list[str]) -> BingoBoard:\n",
    "    rows = [[int(x) for x in row.split()] for row in board]\n",
    "    columns = transpose(rows)\n",
    "    return rows+columns\n",
    "\n",
    "def playStep(currentBoard: BingoBoard, draw: int) -> BingoBoard:\n",
    "    return [[x for x in row if x != draw] for row in currentBoard]\n",
    "\n",
    "def checkWon(board: BingoBoard) -> bool:\n",
    "    return any(map(lambda x: len(x) == 0, board))\n",
    "\n",
    "def computeScore(board: BingoBoard) -> int:\n",
    "    validNumbers = [x for row in board[0:len(board)//2] for x in row if x != 0 ]\n",
    "    return sum(validNumbers)\n",
    "\n",
    "def playBingo(boards: list[BingoBoard], draws: list[int]) -> int:\n",
    "    for draw in draws:\n",
    "        boards = [playStep(b, draw) for b in boards]\n",
    "        winningBoards = list(filter(checkWon, boards))\n",
    "        if(len(winningBoards) > 0):\n",
    "            return draw*computeScore(winningBoards[0])\n",
    "    return 0\n"
   ]
  },
  {
   "cell_type": "code",
   "execution_count": 76,
   "metadata": {},
   "outputs": [
    {
     "name": "stdout",
     "output_type": "stream",
     "text": [
      "[[22, 13, 17, 11, 0], [8, 2, 23, 4, 24], [21, 9, 14, 16, 7], [6, 10, 3, 18, 5], [1, 12, 20, 15, 19], [22, 8, 21, 6, 1], [13, 2, 9, 10, 12], [17, 23, 14, 3, 20], [11, 4, 16, 18, 15], [0, 24, 7, 5, 19]]\n",
      "\u001b[92m Passed: expected 4512 got 4512\u001b[00m\n"
     ]
    }
   ],
   "source": [
    "board = convertBoard([\n",
    "    \"22 13 17 11  0\",\n",
    "    \" 8  2 23  4 24\",\n",
    "    \"21  9 14 16  7\",\n",
    "    \" 6 10  3 18  5\",\n",
    "    \" 1 12 20 15 19\"\n",
    "])\n",
    "\n",
    "print(board)\n",
    "playBingo([board], [0, 22, 13, 17, 3, 11])\n",
    "\n",
    "boards = map(convertBoard,[\n",
    "    [\"22 13 17 11  0\", \" 8  2 23  4 24\", \"21  9 14 16  7\", \" 6 10  3 18  5\", \" 1 12 20 15 19\"],\n",
    "    [\" 3 15  0  2 22\", \" 9 18 13 17  5\", \"19  8  7 25 23\", \"20 11 10 24  4\", \"14 21 16 12  6\"],\n",
    "    [\"14 21 17 24  4\", \"10 16 15  9 19\", \"18  8 23 26 20\", \"22 11 13  6  5\", \" 2  0 12  3  7\"]\n",
    "])\n",
    "\n",
    "guesses = [7,4,9,5,11,17,23,2,0,14,21,24,10,16,13,6,15,25,12,22,18,20,8,19,3,26,1]\n",
    "\n",
    "doesEqual(4512, playBingo(boards, guesses))"
   ]
  },
  {
   "cell_type": "code",
   "execution_count": 99,
   "metadata": {},
   "outputs": [
    {
     "name": "stdout",
     "output_type": "stream",
     "text": [
      "Got Part 1 answer: 41503\n"
     ]
    }
   ],
   "source": [
    "boards = []\n",
    "with open('Day4Input.txt') as file:\n",
    "    guesses = list(map(int, file.readline().split(\",\")))\n",
    "    while (file.readline()):\n",
    "        rawBoard = map(lambda _:file.readline(), range(5))\n",
    "        board = convertBoard(rawBoard)\n",
    "        boards.append(board)\n",
    "    print(f\"Got Part 1 answer: {playBingo(list(boards), guesses)}\")\n"
   ]
  },
  {
   "cell_type": "markdown",
   "metadata": {},
   "source": [
    "## Part Two\n",
    "\n",
    "On the other hand, it might be wise to try a different strategy: let the giant squid win.\n",
    "\n",
    "You aren't sure how many bingo boards a giant squid could play at once, so rather than waste time counting its arms, the safe thing to do is to figure out which board will win last and choose that one. That way, no matter which boards it picks, it will win for sure.\n",
    "\n",
    "In the above example, the second board is the last to win, which happens after 13 is eventually called and its middle column is completely marked. If you were to keep playing until this point, the second board would have a sum of unmarked numbers equal to 148 for a final score of 148 * 13 = 1924.\n",
    "\n",
    "Figure out which board will win last. Once it wins, what would its final score be?\n"
   ]
  },
  {
   "cell_type": "code",
   "execution_count": 100,
   "metadata": {},
   "outputs": [
    {
     "name": "stdout",
     "output_type": "stream",
     "text": [
      "Got Part 2 answer: 3178\n"
     ]
    }
   ],
   "source": [
    "def playLongBingo(boards: list[BingoBoard], draws: list[int]) -> int:\n",
    "    lastScore = 0\n",
    "    for draw in draws:\n",
    "        boards = [playStep(b, draw) for b in boards]\n",
    "        winningBoards = list(filter(checkWon, boards))\n",
    "        boards = list(filter(lambda x: not checkWon(x), boards))\n",
    "        if(len(winningBoards) > 0):\n",
    "            lastScore = draw*computeScore(winningBoards[0])\n",
    "    return lastScore\n",
    "\n",
    "print(f\"Got Part 2 answer: {playLongBingo(boards, guesses)}\")"
   ]
  }
 ],
 "metadata": {
  "kernelspec": {
   "display_name": "Python 3.9.6 64-bit",
   "language": "python",
   "name": "python3"
  },
  "language_info": {
   "codemirror_mode": {
    "name": "ipython",
    "version": 3
   },
   "file_extension": ".py",
   "mimetype": "text/x-python",
   "name": "python",
   "nbconvert_exporter": "python",
   "pygments_lexer": "ipython3",
   "version": "3.9.6"
  },
  "orig_nbformat": 4,
  "vscode": {
   "interpreter": {
    "hash": "31f2aee4e71d21fbe5cf8b01ff0e069b9275f58929596ceb00d14d90e3e16cd6"
   }
  }
 },
 "nbformat": 4,
 "nbformat_minor": 2
}
