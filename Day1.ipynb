{
 "cells": [
  {
   "cell_type": "markdown",
   "metadata": {},
   "source": [
    "# --- Day 1: Sonar Sweep ---\n",
    "\n",
    "You're minding your own business on a ship at sea when the overboard alarm goes off! You rush to see if you can help. Apparently, one of the Elves tripped and accidentally sent the sleigh keys flying into the ocean!\n",
    "\n",
    "Before you know it, you're inside a submarine the Elves keep ready for situations like this. It's covered in Christmas lights (because of course it is), and it even has an experimental antenna that should be able to track the keys if you can boost its signal strength high enough; there's a little meter that indicates the antenna's signal strength by displaying 0-50 stars.\n",
    "\n",
    "Your instincts tell you that in order to save Christmas, you'll need to get all fifty stars by December 25th.\n",
    "\n",
    "Collect stars by solving puzzles. Two puzzles will be made available on each day in the Advent calendar; the second puzzle is unlocked when you complete the first. Each puzzle grants one star. Good luck!\n",
    "\n",
    "As the submarine drops below the surface of the ocean, it automatically performs a sonar sweep of the nearby sea floor. On a small screen, the sonar sweep report (your puzzle input) appears: each line is a measurement of the sea floor depth as the sweep looks further and further away from the submarine.\n",
    "\n",
    "For example, suppose you had the following report:\n",
    "\n",
    "```\n",
    "199\n",
    "200\n",
    "208\n",
    "210\n",
    "200\n",
    "207\n",
    "240\n",
    "269\n",
    "260\n",
    "263\n",
    "```\n",
    "\n",
    "This report indicates that, scanning outward from the submarine, the sonar sweep found depths of 199, 200, 208, 210, and so on.\n",
    "\n",
    "The first order of business is to figure out how quickly the depth increases, just so you know what you're dealing with - you never know if the keys will get carried into deeper water by an ocean current or a fish or something.\n",
    "\n",
    "To do this, count the number of times a depth measurement increases from the previous measurement. (There is no measurement before the first measurement.) In the example above, the changes are as follows:\n",
    "\n",
    "```\n",
    "199 (N/A - no previous measurement)\n",
    "200 (increased)\n",
    "208 (increased)\n",
    "210 (increased)\n",
    "200 (decreased)\n",
    "207 (increased)\n",
    "240 (increased)\n",
    "269 (increased)\n",
    "260 (decreased)\n",
    "263 (increased)\n",
    "```\n",
    "In this example, there are 7 measurements that are larger than the previous measurement.\n",
    "\n",
    "How many measurements are larger than the previous measurement?\n"
   ]
  },
  {
   "cell_type": "code",
   "execution_count": 1,
   "metadata": {},
   "outputs": [
    {
     "name": "stdout",
     "output_type": "stream",
     "text": [
      "\u001b[92m Passed: expected 3 got 3\u001b[00m\n",
      "\u001b[92m Passed: expected 0 got 0\u001b[00m\n",
      "\u001b[92m Passed: expected 0 got 0\u001b[00m\n",
      "\u001b[92m Passed: expected 0 got 0\u001b[00m\n",
      "\u001b[92m Passed: expected 0 got 0\u001b[00m\n",
      "\u001b[92m Passed: expected 1 got 1\u001b[00m\n",
      "\u001b[92m Passed: expected 2 got 2\u001b[00m\n"
     ]
    }
   ],
   "source": [
    "from localHelpers import doesEqual\n",
    "\n",
    "def countIncreases(measurementList: list[int]) -> int: \n",
    "    if(len(measurementList) == 0):\n",
    "        return 0\n",
    "    last = measurementList[0]\n",
    "    count = 0\n",
    "    for m in measurementList:\n",
    "        if(m>last):\n",
    "            count += 1\n",
    "        last = m\n",
    "    return count\n",
    "doesEqual(3, countIncreases([1,2,3,4]))\n",
    "doesEqual(0, countIncreases([]))\n",
    "doesEqual(0, countIncreases([1]))\n",
    "doesEqual(0, countIncreases([5,5]))\n",
    "doesEqual(0, countIncreases([5,1]))\n",
    "doesEqual(1, countIncreases([5,6]))\n",
    "doesEqual(2, countIncreases([5,1,2,4]))"
   ]
  },
  {
   "cell_type": "code",
   "execution_count": 2,
   "metadata": {},
   "outputs": [
    {
     "name": "stdout",
     "output_type": "stream",
     "text": [
      "Part one answer is 1602\n"
     ]
    }
   ],
   "source": [
    "with open('Day1Input.txt') as f:\n",
    "    lines = f.readlines()\n",
    "    numbers = list(map(lambda l:int(l), lines))\n",
    "    print(f\"Part one answer is {countIncreases(numbers)}\")"
   ]
  },
  {
   "cell_type": "markdown",
   "metadata": {},
   "source": [
    "## --- Part Two ---\n",
    "\n",
    "Considering every single measurement isn't as useful as you expected: there's just too much noise in the data.\n",
    "\n",
    "Instead, consider sums of a three-measurement sliding window. Again considering the above example:\n",
    "```\n",
    "199  A      \n",
    "200  A B    \n",
    "208  A B C  \n",
    "210    B C D\n",
    "200  E   C D\n",
    "207  E F   D\n",
    "240  E F G  \n",
    "269    F G H\n",
    "260      G H\n",
    "263        H\n",
    "```\n",
    "\n",
    "Start by comparing the first and second three-measurement windows. The measurements in the first window are marked A (199, 200, 208); their sum is 199 + 200 + 208 = 607. The second window is marked B (200, 208, 210); its sum is 618. The sum of measurements in the second window is larger than the sum of the first, so this first comparison increased.\n",
    "\n",
    "Your goal now is to count the number of times the sum of measurements in this sliding window increases from the previous sum. So, compare A with B, then compare B with C, then C with D, and so on. Stop when there aren't enough measurements left to create a new three-measurement sum.\n",
    "\n",
    "In the above example, the sum of each three-measurement window is as follows:\n",
    "```\n",
    "A: 607 (N/A - no previous sum)\n",
    "B: 618 (increased)\n",
    "C: 618 (no change)\n",
    "D: 617 (decreased)\n",
    "E: 647 (increased)\n",
    "F: 716 (increased)\n",
    "G: 769 (increased)\n",
    "H: 792 (increased)\n",
    "```\n",
    "In this example, there are 5 sums that are larger than the previous sum.\n",
    "\n",
    "Consider sums of a three-measurement sliding window. How many sums are larger than the previous sum?\n"
   ]
  },
  {
   "cell_type": "code",
   "execution_count": 9,
   "metadata": {},
   "outputs": [
    {
     "name": "stdout",
     "output_type": "stream",
     "text": [
      "\u001b[92m Passed: expected 0 got 0\u001b[00m\n",
      "\u001b[92m Passed: expected 0 got 0\u001b[00m\n",
      "\u001b[92m Passed: expected 0 got 0\u001b[00m\n",
      "\u001b[92m Passed: expected 1 got 1\u001b[00m\n",
      "\u001b[92m Passed: expected 3 got 3\u001b[00m\n",
      "\u001b[92m Passed: expected 2 got 2\u001b[00m\n"
     ]
    }
   ],
   "source": [
    "def countIncreasesWithWindow(mList:list[int]) -> int:\n",
    "    def sumThree(idx:int)->int:\n",
    "        return sum(mList[idx:idx+3])\n",
    "    if(len(mList) < 4):\n",
    "        return 0\n",
    "    last = sumThree(0)\n",
    "    count = 0\n",
    "    for start in range(len(mList)-2):\n",
    "        s = sumThree(start)\n",
    "        if(s>last):\n",
    "            count+=1\n",
    "        last = s\n",
    "    return count\n",
    "def testCase(output, input):\n",
    "    doesEqual(output, countIncreasesWithWindow(input))\n",
    "testCase(0, [])\n",
    "testCase(0, [1,2,3])\n",
    "testCase(0, [1,1,1,1])\n",
    "testCase(1, [1,1,1,2])\n",
    "testCase(3, [1,1,1,2,2,2])\n",
    "testCase(2, [2,1,1,2,2,2])"
   ]
  },
  {
   "cell_type": "code",
   "execution_count": 10,
   "metadata": {},
   "outputs": [
    {
     "name": "stdout",
     "output_type": "stream",
     "text": [
      "Result = 1633\n"
     ]
    }
   ],
   "source": [
    "print(f\"Result = {countIncreasesWithWindow(numbers)}\")"
   ]
  }
 ],
 "metadata": {
  "kernelspec": {
   "display_name": "Python 3.9.6 64-bit",
   "language": "python",
   "name": "python3"
  },
  "language_info": {
   "codemirror_mode": {
    "name": "ipython",
    "version": 3
   },
   "file_extension": ".py",
   "mimetype": "text/x-python",
   "name": "python",
   "nbconvert_exporter": "python",
   "pygments_lexer": "ipython3",
   "version": "3.9.6"
  },
  "orig_nbformat": 4,
  "vscode": {
   "interpreter": {
    "hash": "31f2aee4e71d21fbe5cf8b01ff0e069b9275f58929596ceb00d14d90e3e16cd6"
   }
  }
 },
 "nbformat": 4,
 "nbformat_minor": 2
}
